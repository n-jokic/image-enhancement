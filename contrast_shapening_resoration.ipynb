{
 "cells": [
  {
   "cell_type": "code",
   "execution_count": null,
   "id": "4c4a28bd-e8b9-4d91-879f-24a7c6bd9c57",
   "metadata": {},
   "outputs": [],
   "source": [
    "from pylab import *\n",
    "\n",
    "import skimage\n",
    "from skimage import color, io\n",
    "import numpy as np\n",
    "import scipy\n",
    "from numba import njit"
   ]
  },
  {
   "cell_type": "code",
   "execution_count": null,
   "id": "7ddb3e40-a7ca-41d3-971e-37812313772e",
   "metadata": {},
   "outputs": [],
   "source": [
    "imgRGB = io.imread('sekvence/street.tif')\n",
    "imgRGB = imgRGB/np.max(imgRGB)\n",
    "\n",
    "input_title = 'ulazna slika'\n",
    "form = ' u RGB formatu'\n",
    "fig, axes = plt.subplots(nrows=1, ncols=1, figsize=(16,16), dpi=120)\n",
    "\n",
    "axes.imshow(imgRGB); axes.set_axis_off(); axes.set_title(input_title + form)"
   ]
  },
  {
   "cell_type": "code",
   "execution_count": null,
   "id": "e103ca8e",
   "metadata": {},
   "outputs": [],
   "source": [
    "imgRGB.shape[2]"
   ]
  },
  {
   "cell_type": "code",
   "execution_count": null,
   "id": "5099e02a",
   "metadata": {},
   "outputs": [],
   "source": []
  },
  {
   "cell_type": "code",
   "execution_count": null,
   "id": "90be4dfa",
   "metadata": {},
   "outputs": [],
   "source": []
  },
  {
   "cell_type": "markdown",
   "id": "8069af6e-c7b8-41b6-97a9-93c1a444977b",
   "metadata": {},
   "source": [
    "Slika je prikazana u RGB formatu, možemo primetiti da su izraženi tamni pikseli, pa ćemo razmatrati sledeće opcije:\n",
    "\n",
    "1) Primena nelinearnog preslikavanja koje će da preslika tamne piksele u širi opseg, a svetle u manji. Razmatramo preslikavanje log(1 + ks)\n",
    "\n",
    "2) Primena tehnike ekvalizacije histograma sa i bez odsecanja\n",
    "\n",
    "3) Primena fazi logike radi popravljanja kontrasta\n",
    "\n",
    "4) Adaptivna evalizacija sa odsecanjem\n",
    "\n",
    "Međutim prvi je korak da prebacimo sliku YUV format, a zatim vršimo sve transformacije nad Y slojem. "
   ]
  },
  {
   "cell_type": "code",
   "execution_count": null,
   "id": "9bd5380a-f157-4958-8973-173e099b92ea",
   "metadata": {},
   "outputs": [],
   "source": [
    "imgHSV = color.rgb2hsv(imgRGB)\n",
    "\n",
    "fig, ax = plt.subplots(1, 2, figsize=(12,9), dpi=120);\n",
    "tight_layout();\n",
    "ax[0].imshow(imgRGB); ax[0].set_title('RGB', fontsize=14); ax[0].set_axis_off();\n",
    "ax[1].imshow(imgHSV[:,:,2], vmin=0, vmax=1, cmap='gray'); ax[1].set_title('V', fontsize=14); ax[1].set_axis_off();\n",
    "\n",
    "imgV = imgHSV[:,:,2];"
   ]
  },
  {
   "cell_type": "code",
   "execution_count": null,
   "id": "2e45d436-3cba-49c4-bfe8-ebaba7d3f2e4",
   "metadata": {},
   "outputs": [],
   "source": [
    "def intensity_transform(s, var, trans_type, plot = True, value = 256):\n",
    "    \n",
    "    if(trans_type == 'log'):\n",
    "        k = var[0]\n",
    "        t = log(1 + 10**k * s)/log(1 + 10**k);\n",
    "    if(trans_type == 'linear'):\n",
    "        a = var[0]; b = var[1]; val_a = var[2]; val_b = var[3]; end = var[4];\n",
    "\n",
    "        x_val = [0, a, b, end]\n",
    "        y_val = [0, val_a, val_b, end]\n",
    "\n",
    "        t = interp(double(s), x_val, y_val);\n",
    "    \n",
    "    if(plot):\n",
    "        plot_hist_img(s, t, value);\n",
    "\n",
    "    return t      \n",
    "        \n",
    "def plot_hist_img(s, t, value):\n",
    "        hist_s, bin_edges_s = np.histogram(s.flatten()*(value - 1), bins=value, range=(0,(value - 1)))\n",
    "        hist_t, bin_edges_t = np.histogram(t.flatten()*(value - 1), bins=value, range=(0,(value - 1)))\n",
    "        \n",
    "        fig, ax = plt.subplots(1, 2, figsize=(12,9), dpi=120);\n",
    "        tight_layout();\n",
    "        ax[0].imshow(s , vmin=0, vmax=1, cmap='gray'); ax[0].set_title('Ulazna slika', fontsize=14); ax[0].set_axis_off();\n",
    "        ax[1].imshow(t, vmin=0, vmax=1, cmap='gray'); ax[ 1].set_title('Izlazna slika', fontsize=14); ax[1].set_axis_off();\n",
    "        \n",
    "        fig, ax = plt.subplots(1, 1, figsize=(8, 4), dpi=120);\n",
    "        plt.bar(bin_edges_s[0:-1], hist_s, color='b', label = 'ulaz')\n",
    "        plt.bar(bin_edges_t[0:-1], hist_t, color='r', label = 'izlaz')\n",
    "        plt.legend(); plt.title('Histogram');\n",
    "        return fig, ax\n"
   ]
  },
  {
   "cell_type": "code",
   "execution_count": null,
   "id": "c6935a75-35b6-46f7-86e4-35002fcfaaee",
   "metadata": {},
   "outputs": [],
   "source": [
    "intensity_transform(imgV, [1], 'log');"
   ]
  },
  {
   "cell_type": "markdown",
   "id": "f8b1557a-4b6e-40d3-be5b-1c1cf1df5d05",
   "metadata": {},
   "source": [
    "Pola dinamičkog opsega i dalje nije iskorišćeno. Povećavamo k za 1."
   ]
  },
  {
   "cell_type": "code",
   "execution_count": null,
   "id": "6f4a5616-f651-4c0b-a922-598c9c8f0187",
   "metadata": {},
   "outputs": [],
   "source": [
    "intensity_transform(imgV, [2], 'log');"
   ]
  },
  {
   "cell_type": "markdown",
   "id": "2aa21f42-57b2-40a0-acee-60428c6de02a",
   "metadata": {},
   "source": [
    "Dolazi do prevelikog razvlačenja tamnih regiona, to kao rezultat ima narušavanje kvaliteta slike. Kao kompromis usvajamo k = 1.7"
   ]
  },
  {
   "cell_type": "code",
   "execution_count": null,
   "id": "46733d6c-d2c4-44ff-9bb4-b9b8a9ce46ec",
   "metadata": {},
   "outputs": [],
   "source": [
    "k = 1.8\n",
    "t1 = intensity_transform(imgV, [k], 'log');"
   ]
  },
  {
   "cell_type": "code",
   "execution_count": null,
   "id": "eb8ac647-86cd-45d5-a437-73631881d2d2",
   "metadata": {},
   "outputs": [],
   "source": [
    "temp = np.dstack((imgHSV[:,:, 0],imgHSV[:,:, 1], t1))\n",
    "img_out1 = color.hsv2rgb(temp)\n",
    "\n",
    "fig, ax = plt.subplots(1, 2, figsize=(12,9), dpi=120);\n",
    "tight_layout();\n",
    "ax[0].imshow((imgRGB*255).astype(uint8)); ax[0].set_title('RGB ulaz', fontsize=14); ax[0].set_axis_off();\n",
    "ax[1].imshow((img_out1*255).astype(uint8)); ax[1].set_title('RGB izlaz', fontsize=14); ax[1].set_axis_off();"
   ]
  },
  {
   "cell_type": "markdown",
   "id": "23ee1119-ee35-4178-8ecf-d1354abca738",
   "metadata": {},
   "source": [
    "Mozemo i da primenimo istu transf na RGB slojeve, koristimo iste parametre kao za V."
   ]
  },
  {
   "cell_type": "code",
   "execution_count": null,
   "id": "e171352f-2ca9-4bd6-bf7b-3c5f6dc0918d",
   "metadata": {},
   "outputs": [],
   "source": [
    "R = imgRGB[:, :, 0];\n",
    "G = imgRGB[:, : , 1];\n",
    "B = imgRGB[:, :, 2];\n",
    "\n",
    "\n",
    "\n",
    "\n",
    "r1 = intensity_transform(R, [k], 'log', False);\n",
    "\n",
    "\n",
    "g1 = intensity_transform(G, [k], 'log', False);\n",
    "\n",
    "b1 = intensity_transform(B, [k], 'log', False);\n",
    "\n",
    "\n",
    "img_out2= np.dstack((r1, g1, b1));\n",
    "\n",
    "fig, ax = plt.subplots(1, 2, figsize=(12,9), dpi=120);\n",
    "tight_layout();\n",
    "ax[0].imshow((imgRGB*255).astype(uint8)); ax[0].set_title('RGB ulaz', fontsize=14); ax[0].set_axis_off();\n",
    "ax[1].imshow((img_out2*255).astype(uint8)); ax[1].set_title('RGB izlaz', fontsize=14); ax[1].set_axis_off();"
   ]
  },
  {
   "cell_type": "markdown",
   "id": "42fce507-a8ef-4495-915d-a0d4d02af701",
   "metadata": {},
   "source": [
    "Kao što je i očekivano došlo je do određene promene u bojama, zato što u RGB sloju intezitet je nelinearna fja koordinata, a boja je definisana relativnim udelom R, G i B komponente. Kao rezultat popravkom kontrasta (pogotovo primenom nelineranih funkcija) možemo narušiti relativni odnos R, G i B komponenti.\n",
    "\n",
    "Zbog toga vršimo obradu u HSV sistemu, tu su jasno izdvojene informacije o intezitetu svetla i boji."
   ]
  },
  {
   "cell_type": "code",
   "execution_count": null,
   "id": "46a4387a-22c0-4c69-b300-fe4f0af4b15e",
   "metadata": {},
   "outputs": [],
   "source": [
    "\n",
    "def equalize_hist(s, clip_limit = 1, value = 256, plot = True):\n",
    "    \n",
    "    value = int(value)\n",
    "    hist_s, bin_edges_s = np.histogram(s.flatten()*(value - 1), bins=value, range=(0,(value - 1)))\n",
    "    N = sum(hist_s)\n",
    "    \n",
    "    scale = max(hist_s)\n",
    "    \n",
    "        \n",
    "    if(clip_limit < 1 and clip_limit > 0):\n",
    "        hist_s = clip_hist(hist_s, clip_limit, N)\n",
    "    N = sum(hist_s)   \n",
    "    cdf  = np.array([sum(hist_s[:i+1])  for i in range(value)])/N;\n",
    "    \n",
    "    x_val = np.linspace(0, 1, value);\n",
    "                     \n",
    "    t =  interp(double(s), x_val, cdf);\n",
    "    \n",
    "        \n",
    "    \n",
    "    if(plot):\n",
    "        fig, ax = plot_hist_img(s, t, value);\n",
    "        ax.plot(np.linspace(0, value-1,value), cdf*scale, 'g--')\n",
    "    \n",
    "    return t\n",
    "        \n",
    "def clip_hist(hist, clip_limit, N):\n",
    "    \n",
    "    ind = np.ones(len(hist)).astype(int)\n",
    "    done = 0;\n",
    "    max_quant = round(clip_limit*N)\n",
    "    extra = 0\n",
    "    itera = 0\n",
    "    while not done and itera < 10:\n",
    "        itera =itera + 1\n",
    "        for idx, i in enumerate(hist):\n",
    "            if(i >= max_quant):\n",
    "                extra = extra + i - max_quant\n",
    "                hist[idx]= max_quant\n",
    "                ind[idx] = 0\n",
    "            \n",
    "        k = round(extra/sum(ind));\n",
    "        hist[ind] = hist[ind] + k;\n",
    "\n",
    "        if(max(hist) <= max_quant):\n",
    "            done = 1;\n",
    "    return hist\n"
   ]
  },
  {
   "cell_type": "code",
   "execution_count": null,
   "id": "ed55c50d-59e8-427e-a64f-eda455df15f2",
   "metadata": {},
   "outputs": [],
   "source": [
    "t1 =  equalize_hist(imgV)"
   ]
  },
  {
   "cell_type": "markdown",
   "id": "9f389cf6-d78b-4b54-a204-1885843f2d31",
   "metadata": {},
   "source": [
    "Kao što je i očekivano usled velike koncentracije crnih piksela došlo je do \"izbeljenja\" tamnih piksela. Primenićemo clip_limit."
   ]
  },
  {
   "cell_type": "code",
   "execution_count": null,
   "id": "2734c21c-a114-4b3c-99fe-94fd68aae36d",
   "metadata": {},
   "outputs": [],
   "source": [
    "clip_limit = 0.02\n",
    "t1 =  equalize_hist(imgV, clip_limit)"
   ]
  },
  {
   "cell_type": "code",
   "execution_count": null,
   "id": "de822e39-ef7b-4dec-a9c5-6967efefc284",
   "metadata": {},
   "outputs": [],
   "source": [
    "temp = np.dstack((imgHSV[:,:, 0],imgHSV[:,:, 1], t1))\n",
    "img_out3 = color.hsv2rgb(temp)\n",
    "\n",
    "\n",
    "\n",
    "fig, ax = plt.subplots(1, 2, figsize=(12,9), dpi=120);\n",
    "tight_layout();\n",
    "ax[0].imshow((imgRGB*255).astype(uint8)); ax[0].set_title('RGB ulaz', fontsize=14); ax[0].set_axis_off();\n",
    "ax[1].imshow((img_out3*255).astype(uint8)); ax[1].set_title('RGB izlaz', fontsize=14); ax[1].set_axis_off();"
   ]
  },
  {
   "cell_type": "code",
   "execution_count": null,
   "id": "8cd18704-3a15-4849-8f8e-8913a45a7488",
   "metadata": {},
   "outputs": [],
   "source": [
    "\n",
    "r1 = equalize_hist(R, clip_limit, 256, False);\n",
    "g1 = equalize_hist(G, clip_limit, 256, False);\n",
    "b1 = equalize_hist(B, clip_limit, 256, False);\n",
    "\n",
    "img_out4 = np.dstack((r1, g1, b1));\n",
    "\n",
    "fig, ax = plt.subplots(1, 2, figsize=(12,9), dpi=120);\n",
    "tight_layout();\n",
    "ax[0].imshow((imgRGB*255).astype(uint8)); ax[0].set_title('RGB ulaz', fontsize=14); ax[0].set_axis_off();\n",
    "ax[1].imshow((img_out4*255).astype(uint8)); ax[1].set_title('RGB izlaz', fontsize=14); ax[1].set_axis_off();"
   ]
  },
  {
   "cell_type": "code",
   "execution_count": null,
   "id": "105ed961-5f18-44c8-b285-14699902feb5",
   "metadata": {},
   "outputs": [],
   "source": [
    "\n",
    "def dark(s, val):\n",
    "    x_val = val[0]\n",
    "    y_val = val[1]\n",
    "    return (interp(double(s), x_val, y_val))\n",
    "\n",
    "def light(s, val):\n",
    "    x_val = val[0]\n",
    "    y_val = val[1]\n",
    " \n",
    "\n",
    "    return (interp(double(s), x_val, y_val))\n",
    "\n",
    "def gray(s, val):\n",
    "    x_val = val[0]\n",
    "    y_val = val[1]\n",
    "    return np.array(interp(double(s), x_val, y_val))\n",
    "    \n",
    "def fuzzy(s, dark_val, light_val, gray_val , weight,  value = 256, plot = True):\n",
    "    d = weight[0]\n",
    "    l = weight[2]\n",
    "    g = weight[1]\n",
    "    \n",
    "    t = (dark(s, dark_val)*d + light(s, light_val)*l + gray(s, gray_val)*g)/(dark(s, dark_val)+ light(s, light_val) + gray(s, gray_val))\n",
    "    \n",
    "    if(plot):\n",
    "           plot_hist_img(s, t, value);\n",
    "    return t"
   ]
  },
  {
   "cell_type": "markdown",
   "id": "64277c59-380e-49d3-98d9-e06a08d73c3c",
   "metadata": {},
   "source": [
    "Prvo treba da odredimo granice tamnih, svetlih i sivih oblasti, to ćemo ustanoviti tako što ćemo posmatrati crnu, sivu i belu fuzzy masku."
   ]
  },
  {
   "cell_type": "code",
   "execution_count": null,
   "id": "a1451773-28e4-435d-8819-00fd20ee4ce2",
   "metadata": {},
   "outputs": [],
   "source": [
    " dark_val, light_val, gray_val =     [[0,25/255, 1], [1,  0, 0]], [[0, 15/255, 1], [0, 0, 1]], [[0, 20/255, 1], [0,1, 0]]\n",
    "\n",
    "fig, ax = plt.subplots(1, 3, figsize=(12,9), dpi=120);\n",
    "tight_layout();\n",
    "ax[0].imshow(dark(imgV, dark_val) , vmin=0, vmax=1, cmap='gray'); ax[0].set_title('fuzzy dark', fontsize=14); ax[0].set_axis_off();\n",
    "ax[1].imshow(light(imgV, light_val), vmin=0, vmax=1, cmap='gray'); ax[ 1].set_title('fuzzy light', fontsize=14); ax[1].set_axis_off();\n",
    "ax[2].imshow(gray(imgV, gray_val), vmin=0, vmax=1, cmap='gray'); ax[ 2].set_title('fuzzy gray', fontsize=14); ax[2].set_axis_off();"
   ]
  },
  {
   "cell_type": "markdown",
   "id": "e36999c8-9207-48e7-bd10-f1c5cd2f005f",
   "metadata": {},
   "source": [
    "Podesavanjem tezina mozemo uticati na to gde ce se grupisati piskeli u histogramu."
   ]
  },
  {
   "cell_type": "code",
   "execution_count": null,
   "id": "ec32d02b-ff72-4bd4-a9c4-7412c1035206",
   "metadata": {},
   "outputs": [],
   "source": [
    "weight = [0.03, 0.5, 1]\n",
    "\n",
    "t1 =  fuzzy(imgV, dark_val, light_val, gray_val, weight)"
   ]
  },
  {
   "cell_type": "code",
   "execution_count": null,
   "id": "6ded4387-494c-4c41-a93c-052929215061",
   "metadata": {},
   "outputs": [],
   "source": [
    "temp = np.dstack((imgHSV[:,:, 0],imgHSV[:,:, 1], t1))\n",
    "img_out5 = color.hsv2rgb(temp)\n",
    "\n",
    "\n",
    "fig, ax = plt.subplots(1, 2, figsize=(12,9), dpi=120);\n",
    "tight_layout();\n",
    "ax[0].imshow(imgRGB); ax[0].set_title('RGB ulaz', fontsize=14); ax[0].set_axis_off();\n",
    "ax[1].imshow(img_out5); ax[1].set_title('RGB izlaz', fontsize=14); ax[1].set_axis_off();"
   ]
  },
  {
   "cell_type": "code",
   "execution_count": null,
   "id": "2c9529ef-36ae-4fed-a291-3bde4222ad6c",
   "metadata": {},
   "outputs": [],
   "source": [
    "r1 = fuzzy(R, dark_val, light_val, gray_val, weight, plot = False)\n",
    "g1 = fuzzy(G, dark_val, light_val, gray_val, weight,  plot = False)\n",
    "b1 = fuzzy(B, dark_val, light_val, gray_val, weight,  plot = False)\n",
    "\n",
    "img_out6 = np.dstack((r1, g1, b1));\n",
    "\n",
    "fig, ax = plt.subplots(1, 2, figsize=(12,9), dpi=120);\n",
    "tight_layout();\n",
    "ax[0].imshow(imgRGB); ax[0].set_title('RGB ulaz', fontsize=14); ax[0].set_axis_off();\n",
    "ax[1].imshow(img_out6); ax[1].set_title('RGB izlaz', fontsize=14); ax[1].set_axis_off();"
   ]
  },
  {
   "cell_type": "markdown",
   "id": "aa53d641-7dc4-4db8-9215-27c515414b97",
   "metadata": {},
   "source": [
    "Sledi poređenje metoda: "
   ]
  },
  {
   "cell_type": "code",
   "execution_count": null,
   "id": "07193026-2dd3-40ef-884b-3a62e4eb8beb",
   "metadata": {},
   "outputs": [],
   "source": [
    "fig, ax = plt.subplots(3, 2, figsize=(12,9), dpi=120);\n",
    "tight_layout();\n",
    "ax[0,0].imshow(img_out1); ax[0, 0].set_title('log V', fontsize=14); ax[0, 0].set_axis_off();\n",
    "ax[0,1].imshow(img_out2); ax[0, 1].set_title('log RGB', fontsize=14); ax[0,1].set_axis_off();\n",
    "\n",
    "ax[1,0].imshow(img_out3); ax[1, 0].set_title('eq clip V', fontsize=14); ax[1, 0].set_axis_off();\n",
    "ax[1,1].imshow(img_out4); ax[1, 1].set_title('eq clip RGB', fontsize=14); ax[1,1].set_axis_off();\n",
    "\n",
    "ax[2,0].imshow(img_out5); ax[2, 0].set_title('fuzzy V', fontsize=14); ax[2, 0].set_axis_off();\n",
    "ax[2,1].imshow(img_out6); ax[2, 1].set_title('fuzzy RGB', fontsize=14); ax[2,1].set_axis_off();"
   ]
  },
  {
   "cell_type": "markdown",
   "id": "53b6410b-dced-4591-8172-6684d2b1b4cf",
   "metadata": {},
   "source": [
    "Dobijene su praktično identične slike, pa za \"najbolju\" metodu proglašavamo onu koju je najlakše koristiti. U ovom slučaju to je ekv. histograma, druge metode zahtevaju mnogo više finog podešavanja. Za kraj uporedićemo rezultat sa ugrađenom funkcijom za adaptivnu ekv."
   ]
  },
  {
   "cell_type": "code",
   "execution_count": null,
   "id": "9242b1c9-707a-43dd-b4ce-9d35d36523d1",
   "metadata": {},
   "outputs": [],
   "source": [
    "[height, width] = shape(imgV)\n",
    "\n",
    "y_out = skimage.exposure.equalize_adapthist(imgV, [height/16, width/16], clip_limit=0.045, nbins=256)\n",
    "\n",
    "temp = np.dstack((imgHSV[:,:, 0],imgHSV[:,:, 1], y_out))\n",
    "img_out10 = color.hsv2rgb(temp)\n",
    "\n",
    "fig, ax = plt.subplots(1, 2, figsize=(12,9), dpi=120);\n",
    "tight_layout();\n",
    "ax[0].imshow((img_out3*255).astype(uint8)); ax[0].set_title('CLHE', fontsize=14); ax[0].set_axis_off();\n",
    "ax[1].imshow((img_out10*255).astype(uint8)); ax[1].set_title('CLAHE', fontsize=14); ax[1].set_axis_off();\n",
    "\n",
    "\n",
    "from PIL import Image\n",
    "im = Image.fromarray((img_out3*255).astype(uint8))\n",
    "im.save(\"street_out.jpg\")"
   ]
  },
  {
   "cell_type": "markdown",
   "id": "f64c5356-9233-4389-974a-0b02791097d8",
   "metadata": {},
   "source": [
    "## Drugi zadatak"
   ]
  },
  {
   "cell_type": "code",
   "execution_count": null,
   "id": "c7af4c56-56ea-4f30-a487-4097b304099b",
   "metadata": {},
   "outputs": [],
   "source": [
    "imgRGB = skimage.img_as_float(imread('sekvence/shigatse.jpg'))\n",
    "\n",
    "input_title = 'shigatse'\n",
    "form = ' u RGB formatu'\n",
    "fig, axes = plt.subplots(nrows=1, ncols=1, figsize=(16,16), dpi=120)\n",
    "\n",
    "axes.imshow(imgRGB); axes.set_axis_off(); axes.set_title(input_title + form)"
   ]
  },
  {
   "cell_type": "markdown",
   "id": "8aec16a8-350d-4e6b-bad3-33fc4c4e714a",
   "metadata": {},
   "source": [
    "Primenićemo metodu koja podrazumeva pronalaženje laplasijana slike, a zatim sabiranje istog na početnu sliku. To rezultuje izoštravanjem zato što laplasijan dovodi do izražaja nagle \"step-like\" promene u intezitetu. Isprobaćemo i varijantu gde su dijagonalni elementi različiti od nule, kako bi se bolje video izgled laplasijana primenićemo tehnike popravke kontrasta."
   ]
  },
  {
   "cell_type": "code",
   "execution_count": null,
   "id": "e9e3f17b-733c-4627-bfd1-eb3135c5a2a3",
   "metadata": {},
   "outputs": [],
   "source": [
    "imgHSV = color.rgb2hsv(imgRGB)\n",
    "\n",
    "imgV = imgHSV[:,:,2];\n",
    "\n",
    "\n",
    "laplacian_mask1 = np.array([ [0,  1, 0],\n",
    "                            [1, -4, 1],\n",
    "                            [0,  1, 0] ])\n",
    "\n",
    "\n",
    "laplacian_mask2 = np.array([ [1,  1, 1],\n",
    "                            [1, -8, 1],\n",
    "                            [1,  1, 1] ])\n",
    "\n",
    "img_lap1 = scipy.ndimage.correlate(imgV, laplacian_mask1)\n",
    "\n",
    "img_lap2 = scipy.ndimage.correlate(imgV, laplacian_mask2)\n",
    "\n",
    "\n",
    "fig, axes = plt.subplots(nrows=1, ncols=2, figsize=(16,8), dpi=100)\n",
    "ax = axes.ravel()\n",
    "\n",
    "ax[0].imshow(log(1+10*abs(img_lap1))/log(11), cmap='gray'); ax[0].set_axis_off(); ax[0].set_title('Laplasijan slike bez dijagonalnih el', fontsize=16)\n",
    "ax[1].imshow(log(1+10*abs(img_lap2))/log(11), cmap='gray'); ax[1].set_axis_off(); ax[1].set_title('Laplasijan slike sa dijagonalnim el', fontsize=16)\n"
   ]
  },
  {
   "cell_type": "markdown",
   "id": "aef5f21d-befd-4f71-b3e6-54593c52e5ff",
   "metadata": {},
   "source": [
    "Varijanta sa dijagonalnim elementima bolje povećava oštrinu slike, ali sa druge strane više pojačva šum. Ako šum bude previše izražen možemo da propustimo sliku korz adaptivni NF filtar pre izoštravanja."
   ]
  },
  {
   "cell_type": "code",
   "execution_count": null,
   "id": "5565f3fe-6475-44d5-90f5-66b2f544750f",
   "metadata": {},
   "outputs": [],
   "source": [
    "img_sharp = imgV - 0.4*img_lap2 \n",
    "\n",
    "img_sharp = np.clip(img_sharp, 0, 1)\n",
    "\n",
    "fig, axes = plt.subplots(nrows=1, ncols=2, figsize=(12,9), dpi=120)\n",
    "ax = axes.ravel()\n",
    "\n",
    "ax[0].imshow(imgV, cmap='gray'); ax[0].set_axis_off(); ax[0].set_title('Ulazna slika', fontsize=16)\n",
    "ax[1].imshow(img_sharp, cmap='gray', vmin=0, vmax=1); ax[1].set_axis_off(); ax[1].set_title('Izoštrena slika', fontsize=16)\n",
    "\n",
    "plt.tight_layout();"
   ]
  },
  {
   "cell_type": "markdown",
   "id": "e9da4c3e-23ab-4634-a811-f7ed410b2a09",
   "metadata": {},
   "source": [
    "Nivo šuma je prihvatljiv, bitni detalji slike su izoštreni. Primenićemo i Laplasijan bez dijagonalnih elemenata."
   ]
  },
  {
   "cell_type": "code",
   "execution_count": null,
   "id": "15342f71-cea5-44da-b4e4-04fd3baf8f7c",
   "metadata": {},
   "outputs": [],
   "source": [
    "img_sharp2 = imgV - 0.8*img_lap1\n",
    "\n",
    "img_sharp2 = np.clip(img_sharp2, 0, 1)\n",
    "\n",
    "fig, axes = plt.subplots(nrows=1, ncols=2, figsize=(12,9), dpi=120)\n",
    "ax = axes.ravel()\n",
    "\n",
    "ax[0].imshow(imgV, cmap='gray'); ax[0].set_axis_off(); ax[0].set_title('Ulazna slika', fontsize=16)\n",
    "ax[1].imshow(img_sharp2, cmap='gray', vmin=0, vmax=1); ax[1].set_axis_off(); ax[1].set_title('Izoštrena slika', fontsize=16)\n",
    "\n",
    "plt.tight_layout();"
   ]
  },
  {
   "cell_type": "code",
   "execution_count": null,
   "id": "204cd539-1d02-448b-865c-40760c170539",
   "metadata": {},
   "outputs": [],
   "source": [
    "fig, axes = plt.subplots(nrows=1, ncols=2, figsize=(12,9), dpi=120)\n",
    "ax = axes.ravel()\n",
    "\n",
    "ax[0].imshow(img_sharp, cmap='gray'); ax[0].set_axis_off(); ax[0].set_title('Laplasijan sa dijagonalnim elemntima', fontsize=16)\n",
    "ax[1].imshow(img_sharp2, cmap='gray', vmin=0, vmax=1); ax[1].set_axis_off(); ax[1].set_title('Laplasijan bez dijagonalnih elemnata', fontsize=16)\n",
    "\n",
    "plt.tight_layout();"
   ]
  },
  {
   "cell_type": "markdown",
   "id": "6851c8e5-b4b3-4874-aec7-ca41397fb610",
   "metadata": {},
   "source": [
    "Desna slika subjektivno izgleda bolje, pa usvajamo taj rezultat."
   ]
  },
  {
   "cell_type": "code",
   "execution_count": null,
   "id": "82d2e290-0e7f-4238-80d6-cca87cdcbc8b",
   "metadata": {},
   "outputs": [],
   "source": [
    "temp = np.dstack((imgHSV[:,:, 0],imgHSV[:,:, 1], img_sharp2))\n",
    "img_out = color.hsv2rgb(temp)\n",
    "\n",
    "fig, axes = plt.subplots(nrows=1, ncols=2, figsize=(12,9), dpi=120)\n",
    "ax = axes.ravel()\n",
    "\n",
    "ax[0].imshow(imgRGB, vmin=0, vmax=1); ax[0].set_axis_off(); ax[0].set_title('Ulazna slika', fontsize=16)\n",
    "ax[1].imshow(img_out, vmin=0, vmax=1); ax[1].set_axis_off(); ax[1].set_title('Izoštrena slika', fontsize=16)\n",
    "\n",
    "plt.tight_layout();"
   ]
  },
  {
   "cell_type": "markdown",
   "id": "8412fc64-8cfc-4782-8d5b-a55e7a338db7",
   "metadata": {},
   "source": [
    "Problem kod ove metode je to što rezultujuća slika poprima \"grainy\" izgled, a jedini način da utičemo na to je podešavanjem jednog parametra. Tj glavna mana ove metode je manjak stepeni slobode.\n",
    "\n",
    "Kao sledeću medtodu primenićemo unsharp mask, u opštem slučajuto predstavlja HP filtar, pa ćemo tako i implementirati ovu metodu. Imamo na raspolaganju 2 stepena slobode : 1) granica porpusnog opsega (indirektno se zadaje preko varijanse) 2) odnos snaga u propusnom/nepropusnom opsegu preko parametra aplha\n",
    "\n",
    "Za radius usvajamo vrednost 10, zato što to ima efekat nalik na zero padding ako je sigma dovoljno malo, tj. neće značajno uticati na rezultat.\n",
    "\n",
    "Počinjemo od aplha = 0.5, to predstavlja \"pravi\" HP filtar."
   ]
  },
  {
   "cell_type": "code",
   "execution_count": null,
   "id": "208c3b48-f0a8-4b77-a0a7-c3af7ee70c6b",
   "metadata": {},
   "outputs": [],
   "source": [
    "\n",
    "def unsharp_mask(alpha = 0.8, sigma = 0.2 ,radius = 1):\n",
    "    aplha = np.real(alpha)\n",
    "    radius = np.real(radius)\n",
    "    sigma = np.real(sigma)\n",
    "    \n",
    "    \n",
    "    if(aplha > 1 or alpha < 0):\n",
    "        print('Error : aplha must be between 0 and 1')\n",
    "        return\n",
    "    if(radius < 1):\n",
    "        print('Error : radius must be positive')\n",
    "        return\n",
    "    if(sigma < 0):\n",
    "        print('Error : sigma must be positive')\n",
    "        return\n",
    "    \n",
    "    N = 2*radius + 1\n",
    "    dirac = np.zeros((N, N))\n",
    "    dirac[(N-1)//2, (N-1)//2] = 1\n",
    "    \n",
    "    w = aplha*dirac - (1-aplha)*skimage.filters.gaussian(dirac, sigma = sigma, truncate=N)\n",
    "   \n",
    "    return w"
   ]
  },
  {
   "cell_type": "code",
   "execution_count": null,
   "id": "fab6e0fd-d450-47d2-9073-b8d1bc48445e",
   "metadata": {},
   "outputs": [],
   "source": [
    "alpha = 0.5\n",
    "radius = 10\n",
    "\n",
    "sigma = 0.5\n",
    "\n",
    "w = unsharp_mask(alpha, sigma, radius)\n",
    "g = scipy.ndimage.correlate(imgV, w)\n",
    "\n",
    "fig, axes = plt.subplots(nrows=1, ncols=2, figsize=(12,9), dpi=120)\n",
    "ax = axes.ravel()\n",
    "\n",
    "ax[0].imshow(imgV, vmin=0, vmax=1, cmap = 'gray'); ax[0].set_axis_off(); ax[0].set_title('Ulazna slika', fontsize=16)\n",
    "ax[1].imshow(g,cmap = 'gray'); ax[1].set_axis_off(); ax[1].set_title('sharpening mask', fontsize=16)\n",
    "plt.text(20, 60, f'alpha = {alpha}, sigma = {sigma}, radius = {radius}' , fontsize = 14)\n",
    "\n",
    "plt.tight_layout();\n",
    "\n",
    "\n",
    "\n",
    "\n",
    "sigma = 1\n",
    "\n",
    "w = unsharp_mask(alpha, sigma, radius)\n",
    "g = scipy.ndimage.correlate(imgV, w)\n",
    "\n",
    "fig, axes = plt.subplots(nrows=1, ncols=2, figsize=(12,9), dpi=120)\n",
    "ax = axes.ravel()\n",
    "\n",
    "ax[0].imshow(imgV, vmin=0, vmax=1, cmap = 'gray'); ax[0].set_axis_off(); ax[0].set_title('Ulazna slika', fontsize=16)\n",
    "ax[1].imshow(g, cmap = 'gray'); ax[1].set_axis_off(); ax[1].set_title('sharpening mask', fontsize=16)\n",
    "plt.text(20, 60, f'alpha = {alpha}, sigma = {sigma}, radius = {radius}' , fontsize = 14)\n",
    "\n",
    "plt.tight_layout();\n",
    "\n",
    "\n",
    "\n",
    "\n",
    "sigma = 10\n",
    "\n",
    "w = unsharp_mask(alpha, sigma, radius)\n",
    "g = scipy.ndimage.correlate(imgV, w)\n",
    "\n",
    "fig, axes = plt.subplots(nrows=1, ncols=2, figsize=(12,9), dpi=120)\n",
    "ax = axes.ravel()\n",
    "\n",
    "ax[0].imshow(imgV, vmin=0, vmax=1, cmap = 'gray'); ax[0].set_axis_off(); ax[0].set_title('Ulazna slika', fontsize=16)\n",
    "ax[1].imshow(g, cmap = 'gray'); ax[1].set_axis_off(); ax[1].set_title('sharpening mask', fontsize=16)\n",
    "plt.text(20, 60, f'alpha = {alpha}, sigma = {sigma}, radius = {radius}' , fontsize = 14)\n",
    "\n",
    "plt.tight_layout();"
   ]
  },
  {
   "cell_type": "markdown",
   "id": "2ec6d9d3-45e5-4c28-9825-6d361c028596",
   "metadata": {},
   "source": [
    "Možemo primetiti sledeće: što je sigma veće to propuštamo sve veći i veći deo slike, razlog za to je LP filtar u frekv domenu postaje sve uži pa 1 - LP propušta sve veći deo spektra.\n",
    "\n",
    "Takođe možemo primetit da je na ovaj način pojačavamo i šum, ali za raliku od laplasijana šum je manje izražen.\n",
    "\n",
    "Posmatrajmo šta se dešava ako menjamo aplha za sigma = 0.5\n"
   ]
  },
  {
   "cell_type": "code",
   "execution_count": null,
   "id": "44a4c409-4d46-43b3-9445-67ec98c285ba",
   "metadata": {},
   "outputs": [],
   "source": [
    "alpha = 0.1\n",
    "radius = 10\n",
    "\n",
    "sigma = 0.5\n",
    "\n",
    "w = unsharp_mask(alpha, sigma, radius)\n",
    "g = scipy.ndimage.correlate(imgV, w)\n",
    "\n",
    "fig, axes = plt.subplots(nrows=1, ncols=2, figsize=(12,9), dpi=120)\n",
    "ax = axes.ravel()\n",
    "\n",
    "ax[0].imshow(imgV, vmin=0, vmax=1, cmap = 'gray'); ax[0].set_axis_off(); ax[0].set_title('Ulazna slika', fontsize=16)\n",
    "ax[1].imshow(g,cmap = 'gray'); ax[1].set_axis_off(); ax[1].set_title('sharpening mask', fontsize=16)\n",
    "plt.text(20, 60, f'alpha = {alpha}, sigma = {sigma}, radius = {radius}' , fontsize = 14)\n",
    "\n",
    "plt.tight_layout();\n",
    "\n",
    "alpha = 0.499\n",
    "radius = 10\n",
    "\n",
    "sigma = 0.5\n",
    "\n",
    "w = unsharp_mask(alpha, sigma, radius)\n",
    "g = scipy.ndimage.correlate(imgV, w)\n",
    "\n",
    "fig, axes = plt.subplots(nrows=1, ncols=2, figsize=(12,9), dpi=120)\n",
    "ax = axes.ravel()\n",
    "\n",
    "ax[0].imshow(imgV, vmin=0, vmax=1, cmap = 'gray'); ax[0].set_axis_off(); ax[0].set_title('Ulazna slika', fontsize=16)\n",
    "ax[1].imshow(g,cmap = 'gray'); ax[1].set_axis_off(); ax[1].set_title('sharpening mask', fontsize=16)\n",
    "plt.text(20, 60, f'alpha = {alpha}, sigma = {sigma}, radius = {radius}' , fontsize = 14)\n",
    "\n",
    "plt.tight_layout();\n",
    "\n",
    "alpha = 0.5\n",
    "radius = 10\n",
    "\n",
    "sigma = 0.5\n",
    "\n",
    "w = unsharp_mask(alpha, sigma, radius)\n",
    "g = scipy.ndimage.correlate(imgV, w)\n",
    "\n",
    "fig, axes = plt.subplots(nrows=1, ncols=2, figsize=(12,9), dpi=120)\n",
    "ax = axes.ravel()\n",
    "\n",
    "ax[0].imshow(imgV, vmin=0, vmax=1, cmap = 'gray'); ax[0].set_axis_off(); ax[0].set_title('Ulazna slika', fontsize=16)\n",
    "ax[1].imshow(g,cmap = 'gray'); ax[1].set_axis_off(); ax[1].set_title('sharpening mask', fontsize=16)\n",
    "plt.text(20, 60, f'alpha = {alpha}, sigma = {sigma}, radius = {radius}' , fontsize = 14)\n",
    "\n",
    "plt.tight_layout();\n",
    "\n",
    "alpha = 0.501\n",
    "radius = 10\n",
    "\n",
    "sigma = 0.5\n",
    "\n",
    "w = unsharp_mask(alpha, sigma, radius)\n",
    "g = scipy.ndimage.correlate(imgV, w)\n",
    "\n",
    "fig, axes = plt.subplots(nrows=1, ncols=2, figsize=(12,9), dpi=120)\n",
    "ax = axes.ravel()\n",
    "\n",
    "ax[0].imshow(imgV, vmin=0, vmax=1, cmap = 'gray'); ax[0].set_axis_off(); ax[0].set_title('Ulazna slika', fontsize=16)\n",
    "ax[1].imshow(g,cmap = 'gray'); ax[1].set_axis_off(); ax[1].set_title('sharpening mask', fontsize=16)\n",
    "plt.text(20, 60, f'alpha = {alpha}, sigma = {sigma}, radius = {radius}' , fontsize = 14)\n",
    "\n",
    "plt.tight_layout();\n",
    "\n",
    "alpha = 0.9\n",
    "radius = 10\n",
    "\n",
    "sigma = 0.5\n",
    "\n",
    "w = unsharp_mask(alpha, sigma, radius)\n",
    "g = scipy.ndimage.correlate(imgV, w)\n",
    "\n",
    "fig, axes = plt.subplots(nrows=1, ncols=2, figsize=(12,9), dpi=120)\n",
    "ax = axes.ravel()\n",
    "\n",
    "ax[0].imshow(imgV, vmin=0, vmax=1, cmap = 'gray'); ax[0].set_axis_off(); ax[0].set_title('Ulazna slika', fontsize=16)\n",
    "ax[1].imshow(g,cmap = 'gray'); ax[1].set_axis_off(); ax[1].set_title('sharpening mask', fontsize=16)\n",
    "plt.text(20, 60, f'alpha = {alpha}, sigma = {sigma}, radius = {radius}' , fontsize = 14)\n",
    "\n",
    "plt.tight_layout();"
   ]
  },
  {
   "cell_type": "markdown",
   "id": "1c4fea9c-3171-4af7-a77d-ee0e076e0bbe",
   "metadata": {},
   "source": [
    "Kao što je i očekivano za male vrednosti alpha praktično dolazi samo do formiranja negativa NF dela slika, dok za velike vrednosti aplha praktično se ništa ne dešava.\n",
    "\n",
    "Zanimljive su pojave za vrednosti aplha blizu 0.5, ali u kontekstu izoštravanja slike nam nisu od interesa."
   ]
  },
  {
   "cell_type": "code",
   "execution_count": null,
   "id": "8029f649-d310-4fc0-bcb8-9fe6cf785776",
   "metadata": {},
   "outputs": [],
   "source": [
    "alpha = 0.5\n",
    "radius = 10\n",
    "\n",
    "sigma = 1.5\n",
    "\n",
    "w = unsharp_mask(alpha, sigma, radius)\n",
    "g = scipy.ndimage.correlate(imgV, w)\n",
    "\n",
    "fig, axes = plt.subplots(nrows=1, ncols=2, figsize=(12,9), dpi=120)\n",
    "ax = axes.ravel()\n",
    "\n",
    "ax[0].imshow(imgV, vmin=0, vmax=1, cmap = 'gray'); ax[0].set_axis_off(); ax[0].set_title('Ulazna slika', fontsize=16)\n",
    "ax[1].imshow(imgV + g, vmin=0, vmax=1,cmap = 'gray'); ax[1].set_axis_off(); ax[1].set_title('Izoštrena slika', fontsize=16)\n",
    "plt.text(20, 60, f'alpha = {alpha}, sigma = {sigma}, radius = {radius}' , fontsize = 14)\n",
    "\n",
    "plt.tight_layout();"
   ]
  },
  {
   "cell_type": "code",
   "execution_count": null,
   "id": "b25b90fd-02f3-42c0-bbc6-e3e62abf6539",
   "metadata": {},
   "outputs": [],
   "source": [
    "temp = np.dstack((imgHSV[:,:, 0],imgHSV[:,:, 1], imgV + g))\n",
    "img_out2 = color.hsv2rgb(temp)\n",
    "\n",
    "fig, axes = plt.subplots(nrows=1, ncols=2, figsize=(12,9), dpi=120)\n",
    "ax = axes.ravel()\n",
    "\n",
    "ax[0].imshow(imgRGB, vmin=0, vmax=1); ax[0].set_axis_off(); ax[0].set_title('Ulazna slika', fontsize=16)\n",
    "ax[1].imshow(img_out2, vmin=0, vmax=1); ax[1].set_axis_off(); ax[1].set_title('Izoštrena slika', fontsize=16)\n",
    "\n",
    "plt.tight_layout();"
   ]
  },
  {
   "cell_type": "markdown",
   "id": "9cb4e1b9-15b4-462d-be22-ab9ed11c3bcd",
   "metadata": {},
   "source": [
    "Implementiraćemo još jednu metodu. Konstruisaćemo sharpening mask pomoću BP filtra kako bismo izbegli pojačajanje šuma, BP pravimo kao razliku 2 LP filtra."
   ]
  },
  {
   "cell_type": "code",
   "execution_count": null,
   "id": "9f2368ed-2f95-4559-9adc-16f249a12813",
   "metadata": {},
   "outputs": [],
   "source": [
    "def band_pass_mask(sigma1 = 0.8, sigma2 = 0.2 ,radius = 1):\n",
    "    sigma1 = np.real(sigma1)\n",
    "    radius = np.real(radius)\n",
    "    sigma2 = np.real(sigma2)\n",
    "    \n",
    "    \n",
    "    if(sigma2 < 0):\n",
    "        print('Error : sigma2 must be positive')\n",
    "        return\n",
    "    if(radius < 1):\n",
    "        print('Error : radius must be positive')\n",
    "        return\n",
    "    if(sigma1 < 0):\n",
    "        print('Error : sigma1 must be positive')\n",
    "        return\n",
    "\n",
    "    \n",
    "    N = 2*radius + 1\n",
    "    dirac = np.zeros((N, N))\n",
    "    dirac[(N-1)//2, (N-1)//2] = 1\n",
    "    \n",
    "    w = skimage.filters.gaussian(dirac, sigma = sigma1, truncate=N) - skimage.filters.gaussian(dirac, sigma = sigma2, truncate=N)\n",
    "   \n",
    "    return w"
   ]
  },
  {
   "cell_type": "code",
   "execution_count": null,
   "id": "2ca8c613-b4d9-4403-8b3f-a28ef19615fc",
   "metadata": {},
   "outputs": [],
   "source": [
    "\n",
    "radius = 10\n",
    "\n",
    "sigma1 = 0.1\n",
    "sigma2 = 1\n",
    "\n",
    "w = band_pass_mask(sigma1, sigma2, radius)\n",
    "g = scipy.ndimage.correlate(imgV, w)\n",
    "\n",
    "fig, axes = plt.subplots(nrows=1, ncols=2, figsize=(12,9), dpi=120)\n",
    "ax = axes.ravel()\n",
    "\n",
    "ax[0].imshow(imgV, vmin=0, vmax=1, cmap = 'gray'); ax[0].set_axis_off(); ax[0].set_title('Ulazna slika', fontsize=16)\n",
    "ax[1].imshow(g,cmap = 'gray'); ax[1].set_axis_off(); ax[1].set_title('sharpening mask', fontsize=16)\n",
    "plt.text(20, 60, f'sigma1 = {sigma1}, sigma2 = {sigma2}, radius = {radius}' , fontsize = 14)\n",
    "\n",
    "plt.tight_layout();\n",
    "\n",
    "radius = 10\n",
    "\n",
    "sigma1 = 0.5\n",
    "sigma2 = 1\n",
    "\n",
    "w =band_pass_mask(sigma1, sigma2, radius)\n",
    "g = scipy.ndimage.correlate(imgV, w)\n",
    "\n",
    "fig, axes = plt.subplots(nrows=1, ncols=2, figsize=(12,9), dpi=120)\n",
    "ax = axes.ravel()\n",
    "\n",
    "ax[0].imshow(imgV, vmin=0, vmax=1, cmap = 'gray'); ax[0].set_axis_off(); ax[0].set_title('Ulazna slika', fontsize=16)\n",
    "ax[1].imshow(g,cmap = 'gray'); ax[1].set_axis_off(); ax[1].set_title('sharpening mask', fontsize=16)\n",
    "plt.text(20, 60, f'sigma1 = {sigma1}, sigma2 = {sigma2}, radius = {radius}' , fontsize = 14)\n",
    "\n",
    "plt.tight_layout();\n",
    "\n",
    "radius = 10\n",
    "\n",
    "sigma1 = 0.9\n",
    "sigma2 = 1\n",
    "\n",
    "w = band_pass_mask(sigma1, sigma2, radius)\n",
    "g = scipy.ndimage.correlate(imgV, w)\n",
    "\n",
    "fig, axes = plt.subplots(nrows=1, ncols=2, figsize=(12,9), dpi=120)\n",
    "ax = axes.ravel()\n",
    "\n",
    "ax[0].imshow(imgV, vmin=0, vmax=1, cmap = 'gray'); ax[0].set_axis_off(); ax[0].set_title('Ulazna slika', fontsize=16)\n",
    "ax[1].imshow(g,cmap = 'gray'); ax[1].set_axis_off(); ax[1].set_title('sharpening mask', fontsize=16)\n",
    "plt.text(20, 60, f'sigma1 = {sigma1}, sigma2 = {sigma2}, radius = {radius}' , fontsize = 14)\n",
    "\n",
    "plt.tight_layout();"
   ]
  },
  {
   "cell_type": "markdown",
   "id": "5d1e7dbe-3cf4-4ad7-8c0f-81648d0527ae",
   "metadata": {},
   "source": [
    "Možemo primetiti da što su sigma1 i sigma2 bliži to je filtriranje selektivnije."
   ]
  },
  {
   "cell_type": "code",
   "execution_count": null,
   "id": "bdae4aa5-3c4b-4413-8006-010011df1c9b",
   "metadata": {},
   "outputs": [],
   "source": [
    "radius = 5\n",
    "\n",
    "sigma1 = 0.5\n",
    "sigma2 = 1.5\n",
    "\n",
    "w = band_pass_mask(sigma1, sigma2, radius)\n",
    "g = scipy.ndimage.correlate(imgV, w)\n",
    "\n",
    "fig, axes = plt.subplots(nrows=1, ncols=2, figsize=(12,9), dpi=120)\n",
    "ax = axes.ravel()\n",
    "\n",
    "ax[0].imshow(imgV, vmin=0, vmax=1, cmap = 'gray'); ax[0].set_axis_off(); ax[0].set_title('Ulazna slika', fontsize=16)\n",
    "ax[1].imshow(imgV + g, vmin=0, vmax=1,cmap = 'gray'); ax[1].set_axis_off(); ax[1].set_title('Izoštrena slika', fontsize=16)\n",
    "plt.text(20, 60, f'sigma1 = {sigma1}, sigma2 = {sigma2}, radius = {round(radius)}' , fontsize = 14)\n",
    "\n"
   ]
  },
  {
   "cell_type": "code",
   "execution_count": null,
   "id": "b21aae2c-084a-4523-bee0-7fe15326ff8b",
   "metadata": {},
   "outputs": [],
   "source": [
    "temp = np.dstack((imgHSV[:,:, 0],imgHSV[:,:, 1], imgV + g))\n",
    "img_out3 = color.hsv2rgb(temp)\n",
    "\n",
    "fig, axes = plt.subplots(nrows=1, ncols=2, figsize=(12,9), dpi=120)\n",
    "ax = axes.ravel()\n",
    "\n",
    "ax[0].imshow(imgRGB, vmin=0, vmax=1); ax[0].set_axis_off(); ax[0].set_title('Ulazna slika', fontsize=16)\n",
    "ax[1].imshow(img_out3, vmin=0, vmax=1); ax[1].set_axis_off(); ax[1].set_title('Izoštrena slika', fontsize=16)\n",
    "\n",
    "plt.tight_layout();"
   ]
  },
  {
   "cell_type": "markdown",
   "id": "a47721b9-8fbe-4cc2-8848-1c48fc39a51b",
   "metadata": {},
   "source": [
    "sledi poređenje rezultata."
   ]
  },
  {
   "cell_type": "code",
   "execution_count": null,
   "id": "42b7e7f9-02ae-4914-8937-0e407c449eda",
   "metadata": {},
   "outputs": [],
   "source": [
    "\n",
    "fig, axes = plt.subplots(nrows=1, ncols=3, figsize=(12,9), dpi=120)\n",
    "ax = axes.ravel()\n",
    "\n",
    "ax[0].imshow(img_out, vmin=0, vmax=1); ax[0].set_axis_off(); ax[0].set_title('Laplasijan', fontsize=16)\n",
    "ax[1].imshow(img_out2, vmin=0, vmax=1); ax[1].set_axis_off(); ax[1].set_title('High pass', fontsize=16)\n",
    "ax[2].imshow(img_out3, vmin=0, vmax=1); ax[2].set_axis_off(); ax[2].set_title('Band pass', fontsize=16)\n",
    "\n",
    "plt.tight_layout();\n"
   ]
  },
  {
   "cell_type": "markdown",
   "id": "5fbc0a52-d44c-4176-8b00-568336150c33",
   "metadata": {},
   "source": [
    "Šum : BP->HP->Laplasijan\n",
    "\n",
    "\n",
    "Jednostavnost: Laplasijan->HP->BP"
   ]
  },
  {
   "cell_type": "markdown",
   "id": "e68db234-bf3b-400c-a7ac-2d652ce5ec16",
   "metadata": {},
   "source": [
    "## Treći zadatak"
   ]
  },
  {
   "cell_type": "code",
   "execution_count": null,
   "id": "e33f6723-9098-4084-bfd2-0e746afabb88",
   "metadata": {},
   "outputs": [],
   "source": [
    "corrupted = skimage.img_as_float(imread('sekvence/corrupted1.png'))\n",
    "\n",
    "original = skimage.img_as_float(imread('sekvence/original1.png'))\n",
    "\n",
    "fig, axes = plt.subplots(nrows=1, ncols=2, figsize=(12,9), dpi=120)\n",
    "ax = axes.ravel()\n",
    "\n",
    "ax[0].imshow(original, vmin=0, vmax=1, cmap = 'gray'); ax[0].set_axis_off(); ax[0].set_title('original1.jpg', fontsize=16)\n",
    "ax[1].imshow(corrupted, vmin=0, vmax=1, cmap = 'gray'); ax[1].set_axis_off(); ax[1].set_title('corrupted1.jpg', fontsize=16)\n",
    "\n",
    "plt.tight_layout();"
   ]
  },
  {
   "cell_type": "markdown",
   "id": "c4dee053-24b8-47f0-842e-18df6dbe4a2d",
   "metadata": {},
   "source": [
    "Posmatajući degradiranu sliku možemo ustanoviti 2 stvari 1) Prisutan je izražen šum impulsne prirode 2) U pitanju je negativ originalne slike"
   ]
  },
  {
   "cell_type": "markdown",
   "id": "b2db39f4-b1ec-48aa-9c3b-c6f204d71ec3",
   "metadata": {},
   "source": [
    "Prvo analiziramo prirodu šuma posmatrajući uniforman deo slike, u ovom slučaju to je gornji levi ugao."
   ]
  },
  {
   "cell_type": "code",
   "execution_count": null,
   "id": "b58d2403-419a-4788-9a0e-5fb92e7c1bf4",
   "metadata": {},
   "outputs": [],
   "source": [
    "[height, width] = shape(original)\n",
    "\n",
    "\n",
    "fig, axes = plt.subplots(nrows=1, ncols=1, figsize=(16,16), dpi=120)\n",
    "\n",
    "axes.imshow(corrupted[10:height//8, 10:width//8], cmap = 'gray'); axes.set_axis_off(); axes.set_title('Gornji levi ugao corrupted slike')"
   ]
  },
  {
   "cell_type": "markdown",
   "id": "8890ffcb-921e-48f7-bcc0-7346c7cf0987",
   "metadata": {},
   "source": [
    "Očigledno je u pitanju šum impulsne prirode."
   ]
  },
  {
   "cell_type": "code",
   "execution_count": null,
   "id": "529baa12-cfbf-4ce6-a9d2-a8d11332796f",
   "metadata": {},
   "outputs": [],
   "source": [
    "hist_s, bin_edges_s = np.histogram(corrupted[10:height//8, 10:width//8].flatten()*(256 - 1), bins=256, range=(0,(256 - 1)))\n",
    "        \n",
    "fig, ax = plt.subplots(1, 1, figsize=(8, 4), dpi=120);\n",
    "plt.bar(bin_edges_s[0:-1], hist_s, color='b')\n",
    "\n",
    "print(hist_s[0]/(sum(hist_s)))"
   ]
  },
  {
   "cell_type": "markdown",
   "id": "a220f9b9-2485-4869-9922-9125a5b6c056",
   "metadata": {},
   "source": [
    "Na osnovu histograma možemo proceniti da je verovatnoća impulsa P  = 0.026"
   ]
  },
  {
   "cell_type": "code",
   "execution_count": null,
   "id": "e447029e-5df7-4d03-8459-2bb666ceb323",
   "metadata": {},
   "outputs": [],
   "source": [
    "\n",
    "def adaptive_median(s, max_order = 3, start_order = 1):\n",
    "    \"3x3 -> order == 1, 5x5 --> order = 2, 7x7 -->order = 7x7 etc\"\n",
    "    max_order = int(max_order)\n",
    "    start_order = int(start_order)\n",
    "    if(max_order < 1):\n",
    "        max_order = 1\n",
    "    if(start_order < 1):\n",
    "        start_order = 1\n",
    "    if(start_order > max_order):\n",
    "        start_order = max_order\n",
    "        \n",
    "    N_extra = max_order*2\n",
    "    [Ny, Nx] = shape(s)\n",
    "    Px = Nx + 2*N_extra; Py = Ny + 2*N_extra;\n",
    "    \n",
    "    img_pad = zeros([Py, Px], dtype = float)\n",
    "    img_pad[N_extra : N_extra + Ny, N_extra :N_extra + Nx] = s\n",
    "    \n",
    "    \n",
    "    \n",
    "    for i in range(Nx):\n",
    "        for j in range(Ny):\n",
    "            increase_order = True\n",
    "            order = start_order - 1\n",
    "            check_xy = True\n",
    "            \n",
    "            x = i + N_extra\n",
    "            y = j + N_extra\n",
    "            \n",
    "            while increase_order: \n",
    "                order = order + 1\n",
    "                k = order\n",
    "\n",
    "                max_px = np.max(img_pad[y - k : y + k  + 1, x - k : x + k + 1])\n",
    "                min_px = np.min(img_pad[y - k : y + k  + 1, x - k : x + k + 1])\n",
    "                med_px = np.median(img_pad[y - k : y + k  + 1, x - k : x + k + 1])\n",
    "                \n",
    "                \n",
    "                if (med_px - min_px > 0) and (med_px - max_px < 0):\n",
    "                    \"Proveravamo da li je med zapravo impuls\"\n",
    "                    increase_order = False\n",
    "                if(order >= max_order): \n",
    "                    check_xy = False\n",
    "                    increase_order = False\n",
    "                    img_pad[N_extra + j, N_extra + i] = med_px\n",
    "                    \n",
    "            if(check_xy):\n",
    "                if (s[j, i] - min_px > 0) and (s[j, i] - max_px < 0):\n",
    "                    img_pad[N_extra + j, N_extra + i] = s[j, i]\n",
    "                else:\n",
    "                    img_pad[N_extra + j, N_extra + i] = med_px \n",
    "                    \"menja s[x, y] samo ako je impulsne prirode\"\n",
    "              \n",
    "    return img_pad[N_extra : N_extra + Ny, N_extra :N_extra + Nx]\n",
    "    \n",
    "\n"
   ]
  },
  {
   "cell_type": "markdown",
   "id": "4c9c03cb-f2e2-46e1-a470-8ec3c0b3e9da",
   "metadata": {},
   "source": [
    "Adaptivni median filtar funkcioniše na sledeći način: Prvo odredi medijanu -> ako je medijana impulsne prirode (min ili max) proširi lokalnu okolinu. Postupak se ponavlja sve dok se ne dosegne max veličina okoline ili ne pronađe medijana koja nije impulsne prirode. \n",
    "Sledeći korak je samo filtriranje, ako piksel na poziciji i,j nije impulse prirode onda se ne menja, a ako jeste menja se sa medijanom.\n",
    "\n",
    "Kao rezultat imamo mnogo bolje očuvanje ivica u poređenju sa klasičnim median filtrom, mana je to što se muči sa regionima koji treba da budu uniformni i imaju maksimalne ili minimalne vrednosti. "
   ]
  },
  {
   "cell_type": "code",
   "execution_count": null,
   "id": "4583c034-ea53-4438-89f7-d078020a6805",
   "metadata": {},
   "outputs": [],
   "source": [
    "t = adaptive_median(corrupted, 2)\n",
    "\n",
    "\n",
    "fig, axes = plt.subplots(nrows=1, ncols=2, figsize=(12,9), dpi=120)\n",
    "ax = axes.ravel()\n",
    "\n",
    "ax[0].imshow(corrupted, vmin=0, vmax=1, cmap = 'gray'); ax[0].set_axis_off(); ax[0].set_title('corrupted', fontsize=16)\n",
    "ax[1].imshow(t, vmin=0, vmax=1, cmap = 'gray'); ax[1].set_axis_off(); ax[1].set_title('filtrirano', fontsize=16)\n",
    "\n",
    "plt.tight_layout();"
   ]
  },
  {
   "cell_type": "markdown",
   "id": "2a0183f9-a7e7-4d72-9be6-3550761b0c6c",
   "metadata": {},
   "source": [
    "Očigledno je u pitanju negativ slike, vršimo stransformaciju t = 1 - s"
   ]
  },
  {
   "cell_type": "code",
   "execution_count": null,
   "id": "6b4913e9-686c-4460-9170-cf69f1bb24ee",
   "metadata": {},
   "outputs": [],
   "source": [
    "fig, axes = plt.subplots(nrows=1, ncols=2, figsize=(12,9), dpi=120)\n",
    "ax = axes.ravel()\n",
    "\n",
    "ax[0].imshow(1-t, vmin=0, vmax=1, cmap = 'gray'); ax[0].set_axis_off(); ax[0].set_title('processed', fontsize=16)\n",
    "ax[1].imshow(original, vmin=0, vmax=1, cmap = 'gray'); ax[1].set_axis_off(); ax[1].set_title('original', fontsize=16)\n",
    "\n",
    "plt.tight_layout();"
   ]
  },
  {
   "cell_type": "code",
   "execution_count": null,
   "id": "404f92a4-a2cb-4d36-b94b-b61ef75d234d",
   "metadata": {},
   "outputs": [],
   "source": [
    "plot_hist_img(original, 1 -  t, 256)"
   ]
  },
  {
   "cell_type": "markdown",
   "id": "adec17df-c677-474c-9526-65488900ef00",
   "metadata": {},
   "source": [
    "Možemo videti da je došlo do određene kompresije histograma, primenićemo linearnu transformaciju."
   ]
  },
  {
   "cell_type": "code",
   "execution_count": null,
   "id": "a6cef7a6-2c86-44aa-8420-612c3a3f9e77",
   "metadata": {},
   "outputs": [],
   "source": [
    "#Piecewise linear histogram stretching\n",
    "\n",
    "x_val = np.array([0, 49.9, 55,100, 170, 235.1, 255])/255\n",
    "y_val = np.array([0, 49.9,20, 100, 235,235.1,255])/255\n",
    "\n",
    "t2 = np.interp(double(1-t), x_val, y_val)\n",
    "\n",
    "\n",
    "\n",
    "\n",
    "plot_hist_img(original,t2 , 256)"
   ]
  },
  {
   "cell_type": "markdown",
   "id": "69c15777-aa92-4e33-936f-11eb1d04d19a",
   "metadata": {},
   "source": [
    "Malo ćemo da izoštrimo sliku."
   ]
  },
  {
   "cell_type": "code",
   "execution_count": null,
   "id": "14b3e64a-fed4-4156-b08b-5473b4f4cb3e",
   "metadata": {},
   "outputs": [],
   "source": [
    "laplacian_mask = np.array([ [1,  1, 1],\n",
    "                            [1, -8, 1],\n",
    "                            [1,  1, 1] ])\n",
    "\n",
    "out_lap = scipy.ndimage.correlate(t2, laplacian_mask)\n",
    "out = t2 - 0.15*out_lap\n",
    "\n",
    "fig, axes = plt.subplots(nrows=1, ncols=2, figsize=(12,9), dpi=120)\n",
    "ax = axes.ravel()\n",
    "\n",
    "ax[0].imshow(out, vmin=0, vmax=1, cmap = 'gray'); ax[0].set_axis_off(); ax[0].set_title('reconstructed', fontsize=16)\n",
    "ax[1].imshow(original, vmin=0, vmax=1, cmap = 'gray'); ax[1].set_axis_off(); ax[1].set_title('original', fontsize=16)\n",
    "\n",
    "plt.tight_layout();"
   ]
  },
  {
   "cell_type": "markdown",
   "id": "4fd0d47d-591f-44a6-9e61-8873fea8d733",
   "metadata": {},
   "source": [
    "Slike izgledaju praktično identično, primenićemo isti postupak na druge dve slike pomoću funkcije reconstruction."
   ]
  },
  {
   "cell_type": "code",
   "execution_count": null,
   "id": "70d7c15e-76c2-460b-95f5-b955e90a99a2",
   "metadata": {},
   "outputs": [],
   "source": [
    "#H = np.fft.fft2(t)/np.fft.fft2(original)"
   ]
  },
  {
   "cell_type": "code",
   "execution_count": null,
   "id": "241622b1-f122-4dd7-aba3-27b0e5839bc1",
   "metadata": {},
   "outputs": [],
   "source": [
    "\n",
    "\n",
    "def constrained_LS(img, gamma, H, k):\n",
    "    [Ny, Nx] = shape(img)\n",
    "    h_lap = [[1,  1, 1],\n",
    "         [1, -8, 1],\n",
    "         [1,  1, 1]]\n",
    "\n",
    "    h_lap_p = zeros([Ny, Nx])\n",
    "    h_lap_p[0:3,0:3] = h_lap\n",
    "\n",
    "    P = np.fft.fft2(h_lap_p)\n",
    "    \n",
    "    F = np.conjugate(H)/(np.abs(H)**2 + gamma*np.abs(P)**2)*np.fft.fft2(img)\n",
    "    \n",
    "    return np.real(np.fft.ifft2(F*k))\n",
    "\n",
    "\n",
    "\n",
    "def my_filter(img, H, gamma= 0.1, AM_order = 0,AM_start_order = 1,  sharpen = False):\n",
    "    [NyH, NxH] = shape(H)\n",
    "    [NyI, NxI] = shape(img)\n",
    "    \n",
    "    k = (NyH*NxH)/(NyI* NxI)\n",
    "    \n",
    "    if(NyI > NyH) or (NxI > NxH): \n",
    "        print('Image is larger than H, currently not supported')\n",
    "        return\n",
    "    \n",
    "    Nx_extra = NxH - NxI\n",
    "    Ny_extra = NyH - NyI\n",
    "    \n",
    "    Px = NxI + Nx_extra; Py = NyI + Ny_extra;\n",
    "    \n",
    "    img_pad = zeros([Py, Px])\n",
    "    img_pad[ 0 : NyI, 0 : NxI] = img\n",
    "    \n",
    "    if (AM_order > 1):\n",
    "        img_pad[ 0 : NyI, 0 : NxI] = adaptive_median(img_pad[ 0 : NyI, 0 : NxI], AM_order, AM_start_order)\n",
    "        \n",
    "    img_pad = constrained_LS(img_pad, gamma, H, k)\n",
    "    \n",
    "    out = img_pad[ 0 : NyI, 0 : NxI]\n",
    "    \n",
    "    \n",
    "    \n",
    "    if(np.median(out) < 0 or np.median(out) > 1):\n",
    "        low_in = np.percentile(out.flatten(), .5)\n",
    "        high_in = np.percentile(out.flatten(), 99.5)\n",
    "        out = skimage.exposure.rescale_intensity(out, in_range=(low_in, high_in), out_range=(0,1))\n",
    "    \n",
    "    if(sharpen):\n",
    "        laplacian_mask = np.array([ [1,  1, 1],\n",
    "                            [1, -8, 1],\n",
    "                            [1,  1, 1] ])\n",
    "\n",
    "        out_lap = scipy.ndimage.correlate(out, laplacian_mask)\n",
    "        out = out - out_lap\n",
    "    \n",
    "\n",
    "    return out \n",
    "\n"
   ]
  },
  {
   "cell_type": "code",
   "execution_count": null,
   "id": "8fe09e8a-a7af-46c0-ab0c-b965946a6871",
   "metadata": {},
   "outputs": [],
   "source": [
    "def reconstruction(img):\n",
    "    \n",
    "    x_val = np.array([0, 49.9, 55,100, 170, 235.1, 255])/255\n",
    "    y_val = np.array([0, 49.9,20, 100, 235,235.1,255])/255\n",
    "    t2 = adaptive_median(img, 1)\n",
    "    t = np.interp(double(1-t2), x_val, y_val)\n",
    "    \n",
    "    laplacian_mask = np.array([ [1,  1, 1],\n",
    "                            [1, -8, 1],\n",
    "                            [1,  1, 1] ])\n",
    "\n",
    "    out_lap = scipy.ndimage.correlate(t, laplacian_mask)\n",
    "    t = t - 0.15*out_lap\n",
    "    \n",
    "    \n",
    "    return t"
   ]
  },
  {
   "cell_type": "code",
   "execution_count": null,
   "id": "55a5ef86-5826-480e-ad53-54414ab7d1f5",
   "metadata": {},
   "outputs": [],
   "source": [
    "t = reconstruction(corrupted)\n",
    "\n",
    "fig, axes = plt.subplots(nrows=1, ncols=2, figsize=(12,9), dpi=120)\n",
    "ax = axes.ravel()\n",
    "\n",
    "ax[0].imshow(corrupted, vmin=0, vmax=1, cmap = 'gray'); ax[0].set_axis_off(); ax[0].set_title('corrupted', fontsize=16)\n",
    "ax[1].imshow(t, vmin=0, vmax=1, cmap = 'gray'); ax[1].set_axis_off(); ax[1].set_title('reconstructed', fontsize=16)\n",
    "\n",
    "plt.tight_layout();\n"
   ]
  },
  {
   "cell_type": "code",
   "execution_count": null,
   "id": "5265df1b-d6a1-41c2-aab4-01275aad5560",
   "metadata": {},
   "outputs": [],
   "source": [
    "corrupted = skimage.img_as_float(imread('sekvence/corrupted2.png'))\n",
    "t2 = reconstruction(corrupted)\n",
    "\n",
    "fig, axes = plt.subplots(nrows=1, ncols=2, figsize=(12,9), dpi=120)\n",
    "ax = axes.ravel()\n",
    "\n",
    "ax[0].imshow(corrupted, vmin=0, vmax=1, cmap = 'gray'); ax[0].set_axis_off(); ax[0].set_title('corrupted', fontsize=16)\n",
    "ax[1].imshow(t2, vmin=0, vmax=1, cmap = 'gray'); ax[1].set_axis_off(); ax[1].set_title('reconstructed', fontsize=16)\n",
    "\n",
    "plt.tight_layout();"
   ]
  },
  {
   "cell_type": "code",
   "execution_count": null,
   "id": "a75273f6-c4b4-4d2b-a62b-8312a840982e",
   "metadata": {},
   "outputs": [],
   "source": [
    "corrupted = skimage.img_as_float(imread('sekvence/corrupted3.png'))\n",
    "t3 = reconstruction(corrupted)\n",
    "\n",
    "fig, axes = plt.subplots(nrows=1, ncols=2, figsize=(12,9), dpi=120)\n",
    "ax = axes.ravel()\n",
    "\n",
    "ax[0].imshow(corrupted, vmin=0, vmax=1, cmap = 'gray'); ax[0].set_axis_off(); ax[0].set_title('corrupted', fontsize=16)\n",
    "ax[1].imshow(t3, vmin=0, vmax=1, cmap = 'gray'); ax[1].set_axis_off(); ax[1].set_title('reconstructed', fontsize=16)\n",
    "\n",
    "plt.tight_layout();"
   ]
  },
  {
   "cell_type": "raw",
   "id": "03a0e4e4-42d0-4281-9a2e-e23585f4f28d",
   "metadata": {},
   "source": [
    "Restauracija slika je uspešno izvršena."
   ]
  },
  {
   "cell_type": "markdown",
   "id": "d9750673-5b40-41c3-9110-240a3bd77516",
   "metadata": {},
   "source": [
    "## Zadatak 4"
   ]
  },
  {
   "cell_type": "code",
   "execution_count": null,
   "id": "20534f88-7a83-4f68-8bed-9eda4b3e2933",
   "metadata": {},
   "outputs": [],
   "source": [
    "def bilateral_filter(x, radius, sigma_s, sigma_r):\n",
    "    \"\"\"\n",
    "    Funkcija vrši filtriranje ulazne slike, uklanjanje šum uz maksimalno očuvanje ivica. \n",
    "    \n",
    "    Parametar sigma_s određuje intezitet filtrianja šuma, što je sigma_s veće to je filtriranje agresivnije.\n",
    "    Parametar sigma_r određuje stepen očuvanja ivica, što je sigma_r veće to se ivice MANJE čuvaju.\n",
    "    \n",
    "    Maska prostornog filtra je dimenzije (2*radius * 1)x(2*radius * 1), formira se kao:\n",
    "    w(m, n) = exp(-(m^2 + n^2/sigma_s^2)exp(-((x(i, j) - x(i + m, j + n))^2/sigma_r^2)\n",
    "    w(m, n) = w(m, n)/sum(w(m, n)) <- Normalizacija!\n",
    "    \n",
    "    Preporuka: radius treba birati rako da sigma_s ≈ radius\n",
    "    \n",
    "    Pre samog procesa filtriranja vrši se proširenje slike kopijama piksela sa ivice, tj. obrada se efektivno\n",
    "    vrši nad slikom dimenzije (Ny + radius)x(Nx + radius)x1\n",
    "     \n",
    "    Ulazi\n",
    "      x - realna matrica dimenzija NxMx1. Ulazna slika.\n",
    "      radius - dimenzija filtra, pozitivan ceo broj\n",
    "      sigma_s - pozitivan realni broj\n",
    "      sigma_r - pozitivan realni broj\n",
    "      \n",
    "    Izlazi\n",
    "      img_pad - realna matrica dimenzija NxMx1. Filtrirana slika.\n",
    "      \n",
    "      U slučaju greške napušta se funckija i ispisuje se poruka o grešci.\n",
    "    \n",
    "    Primer\n",
    "        lena = skimage.img_as_float(imread('.../lena.png'))\n",
    "        imgR = lena[:,:,0];\n",
    "        \n",
    "        imgR_filt = bilateral_filter(imgR, 5, 0.1, 0.1)\n",
    "\n",
    "        fig, axes = plt.subplots(nrows=1, ncols=2, figsize=(12,9), dpi=120); ax = axes.ravel();\n",
    "        ax[0].imshow(imgR, vmin=0, vmax=1, cmap = 'gray'); ax[0].set_axis_off(); \n",
    "        ax[1].imshow(imgR_filt, vmin=0, vmax=1, cmap = 'gray'); ax[1].set_axis_off();\n",
    "\n",
    "        \n",
    "    Reference\n",
    "        https://en.wikipedia.org/wiki/Bilateral_filter\n",
    "    \"\"\"\n",
    "    \n",
    "    sigma_s = np.real(sigma_s)\n",
    "    sigma_r = np.real(sigma_r)\n",
    "    x = np.real(x)\n",
    "    radius = int(radius)\n",
    "    \n",
    "    if(sigma_s <= 0 ):\n",
    "        print('Error: sigma_s must be positive')\n",
    "        return\n",
    "    if(sigma_r <= 0 or (not np.isreal(sigma_r))):\n",
    "        print('Error: sigma_r must be positive')\n",
    "        return\n",
    "    if(np.min(x) <0 or np.max(x) > 1):\n",
    "        print('Error: x must be from [0, 1]')\n",
    "        return\n",
    "    if(radius <= 0):\n",
    "        print('Error: radius must be positive')\n",
    "        return\n",
    "    \n",
    "    w = gaussian_mask(radius, sigma_s)\n",
    "    z = np.zeros((2*radius + 1, 2*radius + 1)) + 1\n",
    "    \n",
    "    \n",
    "    N_extra = radius\n",
    "    [Ny, Nx] = shape(x)\n",
    "    \n",
    "    img_pad = np.pad(x, radius, mode='edge')\n",
    "    img_pad[N_extra : N_extra + Ny, N_extra :N_extra + Nx] = x\n",
    "    t = -1/(2*np.square(sigma_r))\n",
    "    \n",
    "    for i in range(Nx):\n",
    "        for j in range(Ny):\n",
    "            \"\"\" racuna se konvolucija maske w(m, n) i slike img_pad\n",
    "                curr - je tekuci element sa pozicije j, i iz originalne slike\n",
    "                T - je tezinski faktor koji zavisi od razlika u intezitetu T ~ exp(((x(i, j) - x(i + m, j + n))^2)\n",
    "                norm - koeficijent za normalizaciju maske w\n",
    "            \"\"\"\n",
    "            curr = np.array(img_pad[j + N_extra - radius : j + N_extra + radius  + 1, i + N_extra - radius : i + N_extra + radius + 1])\n",
    "            T = w*exp(np.square(curr -  img_pad[j + N_extra, i + N_extra]*z)*t)\n",
    "            norm = np.sum(T)\n",
    "            if(norm):\n",
    "                img_pad[j + N_extra, i + N_extra] = np.sum(T*curr)/norm\n",
    "            else:\n",
    "                img_pad[j + N_extra, i + N_extra] = np.sum(T*curr)\n",
    "       \n",
    "            \n",
    "              \n",
    "    return img_pad[N_extra : N_extra + Ny, N_extra :N_extra + Nx]\n",
    "    \n",
    "def gaussian_mask(radius, sigma_s):\n",
    "    Nx = 2*radius + 1\n",
    "    Ny = 2*radius + 1\n",
    "    \n",
    "    y = np.arange(0,Ny) - (Ny-1)/2\n",
    "    x = np.arange(0,Nx) - (Nx-1)/2\n",
    "\n",
    "    X, Y = meshgrid(x, y)\n",
    "    \n",
    "    D = np.square(X) + np.square(Y)\n",
    "    \n",
    "    return exp(-D/(2*np.square(sigma_s)))"
   ]
  },
  {
   "cell_type": "code",
   "execution_count": null,
   "id": "8d573172-9bb3-431b-a0fb-04747e58bcff",
   "metadata": {},
   "outputs": [],
   "source": [
    "radius = [2, 4, 10, 30, 40, 100]\n",
    "\n",
    "sigma_s = 0.1\n",
    "sigma_r = 0.1\n",
    "\n",
    "for i in radius:\n",
    "    start = time.time()\n",
    "    t = bilateral_filter(imgV, i, sigma_s, sigma_r)\n",
    "    end = time.time()\n",
    "    execution_time = (end - start)\n",
    "    print('Vreme izvrsavanja: ' + str(round(execution_time,3))+ 's \\n')\n",
    "    execution_time_norm = execution_time/np.size(imgV)\n",
    "    print('Vreme izvrsavanja: ' + str(round(execution_time_norm*1e6,3))+ 'us/pix \\n')   "
   ]
  },
  {
   "cell_type": "code",
   "execution_count": null,
   "id": "fa5a86c1-3e86-404a-bbbf-a6fca4f69bce",
   "metadata": {},
   "outputs": [],
   "source": [
    "radius = [2, 4, 10, 30, 40, 100]\n",
    "\n",
    "sigma_s = 0.1\n",
    "sigma_r = 0.1\n",
    "\n",
    "for i in radius:\n",
    "    start = time.time()\n",
    "    t = skimage.restoration.denoise_bilateral(imgV, win_size = i, sigma_spatial = sigma_s, sigma_color = sigma_r, mode='edge')\n",
    "    end = time.time()\n",
    "    execution_time = (end - start)\n",
    "    print('Vreme izvrsavanja: ' + str(round(execution_time,3))+ 's \\n')\n",
    "    execution_time_norm = execution_time/np.size(imgV)\n",
    "    print('Vreme izvrsavanja: ' + str(round(execution_time_norm*1e6,3))+ 'us/pix \\n')  "
   ]
  },
  {
   "cell_type": "markdown",
   "id": "eb37ba7e-4d52-4060-9e65-dfb89461bfac",
   "metadata": {},
   "source": [
    "Očekivano je da je ugrađena funkcija brža zato što je implementirana u Cython-u, ali možemo primetiti da je asimprotski brža samo oko 3 - 4 puta. (Za male vrednosti radiusa je izraženo vreme koje se potroši na samo predprocesiranje, dok za veće je akcenat na složenosti algoritma za obradu) "
   ]
  },
  {
   "cell_type": "code",
   "execution_count": null,
   "id": "1ec77d50-6a44-4a51-bf6d-e230f6e9d56d",
   "metadata": {},
   "outputs": [],
   "source": [
    "sigma_s = 2\n",
    "sigma_r = 1\n",
    "radius = 2\n",
    "t = bilateral_filter(imgV, radius, sigma_s, sigma_r)\n",
    "\n",
    "t1= skimage.restoration.denoise_bilateral(imgV, win_size = radius, sigma_spatial = sigma_s, sigma_color = sigma_r, mode='edge')\n",
    "\n",
    "fig, axes = plt.subplots(nrows=1, ncols=2, figsize=(12,9), dpi=120)\n",
    "ax = axes.ravel()\n",
    "\n",
    "ax[0].imshow(t, cmap = 'gray'); ax[0].set_axis_off(); ax[0].set_title('bilateral_filter', fontsize=16)\n",
    "ax[1].imshow(t1,  cmap = 'gray'); ax[1].set_axis_off(); ax[1].set_title('skimage_bilateral_filter', fontsize=16)\n",
    "plt.text(20, 60, f'sigma_s = {sigma_s}, sigma_r = {sigma_r}, radius = {radius}' , fontsize = 14)\n",
    "\n",
    "plt.tight_layout();\n",
    "\n",
    "sigma_s = 2\n",
    "sigma_r = 0.1\n",
    "radius = 2\n",
    "t = bilateral_filter(imgV, radius, sigma_s, sigma_r)\n",
    "\n",
    "t1= skimage.restoration.denoise_bilateral(imgV, win_size = radius, sigma_spatial = sigma_s, sigma_color = sigma_r, mode='edge')\n",
    "\n",
    "fig, axes = plt.subplots(nrows=1, ncols=2, figsize=(12,9), dpi=120)\n",
    "ax = axes.ravel()\n",
    "\n",
    "ax[0].imshow(t, cmap = 'gray'); ax[0].set_axis_off(); ax[0].set_title('bilateral_filter', fontsize=16)\n",
    "ax[1].imshow(t1,  cmap = 'gray'); ax[1].set_axis_off(); ax[1].set_title('skimage_bilateral_filter', fontsize=16)\n",
    "plt.text(20, 60, f'sigma_s = {sigma_s}, sigma_r = {sigma_r}, radius = {radius}' , fontsize = 14)\n",
    "\n",
    "plt.tight_layout();\n",
    "\n",
    "sigma_s = 2\n",
    "sigma_r = 0.01\n",
    "radius = 2\n",
    "t = bilateral_filter(imgV, radius, sigma_s, sigma_r)\n",
    "\n",
    "t1= skimage.restoration.denoise_bilateral(imgV, win_size = radius, sigma_spatial = sigma_s, sigma_color = sigma_r, mode='edge')\n",
    "\n",
    "fig, axes = plt.subplots(nrows=1, ncols=2, figsize=(12,9), dpi=120)\n",
    "ax = axes.ravel()\n",
    "\n",
    "ax[0].imshow(t, cmap = 'gray'); ax[0].set_axis_off(); ax[0].set_title('bilateral_filter', fontsize=16)\n",
    "ax[1].imshow(t1,  cmap = 'gray'); ax[1].set_axis_off(); ax[1].set_title('skimage_bilateral_filter', fontsize=16)\n",
    "plt.text(20, 60, f'sigma_s = {sigma_s}, sigma_r = {sigma_r}, radius = {radius}' , fontsize = 14)\n",
    "\n",
    "plt.tight_layout();"
   ]
  },
  {
   "cell_type": "markdown",
   "id": "fe670262-933c-4838-9087-1087c0808942",
   "metadata": {},
   "source": [
    "Implementirana funkcija se ponaša očekivano, što je sigma_r manje to je veći akcenat na očuvanju ivica. Ugrađena funkcija se ponaša kao da ima clipping za parametar sigma_r, što je jako neobično zato što to nije naglašeno u opsiu funkcije."
   ]
  }
 ],
 "metadata": {
  "kernelspec": {
   "display_name": "Python 3 (ipykernel)",
   "language": "python",
   "name": "python3"
  },
  "language_info": {
   "codemirror_mode": {
    "name": "ipython",
    "version": 3
   },
   "file_extension": ".py",
   "mimetype": "text/x-python",
   "name": "python",
   "nbconvert_exporter": "python",
   "pygments_lexer": "ipython3",
   "version": "3.7.15"
  }
 },
 "nbformat": 4,
 "nbformat_minor": 5
}
